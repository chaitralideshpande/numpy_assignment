{
 "cells": [
  {
   "cell_type": "markdown",
   "id": "252e5c38",
   "metadata": {},
   "source": [
    "## 1. Create a null vector of size 10 but the fifth value which is 1."
   ]
  },
  {
   "cell_type": "code",
   "execution_count": 1,
   "id": "988af9d7",
   "metadata": {},
   "outputs": [],
   "source": [
    "import numpy as np"
   ]
  },
  {
   "cell_type": "code",
   "execution_count": 3,
   "id": "db0f8f16",
   "metadata": {},
   "outputs": [
    {
     "name": "stdout",
     "output_type": "stream",
     "text": [
      "Change fifth value as 1 (Here, fifth position is considered)\n"
     ]
    },
    {
     "data": {
      "text/plain": [
       "array([0., 0., 0., 0., 1., 0., 0., 0., 0., 0.])"
      ]
     },
     "execution_count": 3,
     "metadata": {},
     "output_type": "execute_result"
    }
   ],
   "source": [
    "v=np.zeros(10)\n",
    "v\n",
    "print('Change fifth value as 1 (Here, fifth position is considered)')\n",
    "v[4]=1\n",
    "v"
   ]
  },
  {
   "cell_type": "markdown",
   "id": "f8929ff4",
   "metadata": {},
   "source": [
    "## 2. Create a vector with values ranging from 10 to 49."
   ]
  },
  {
   "cell_type": "code",
   "execution_count": 6,
   "id": "72e6b302",
   "metadata": {},
   "outputs": [
    {
     "data": {
      "text/plain": [
       "array([10, 11, 12, 13, 14, 15, 16, 17, 18, 19, 20, 21, 22, 23, 24, 25, 26,\n",
       "       27, 28, 29, 30, 31, 32, 33, 34, 35, 36, 37, 38, 39, 40, 41, 42, 43,\n",
       "       44, 45, 46, 47, 48, 49])"
      ]
     },
     "execution_count": 6,
     "metadata": {},
     "output_type": "execute_result"
    }
   ],
   "source": [
    "np.arange(10,50)"
   ]
  },
  {
   "cell_type": "markdown",
   "id": "c3b1f563",
   "metadata": {},
   "source": [
    "## 3. Create a 3x3 matrix with values ranging from 0 to 8"
   ]
  },
  {
   "cell_type": "code",
   "execution_count": 7,
   "id": "e29510f1",
   "metadata": {},
   "outputs": [
    {
     "data": {
      "text/plain": [
       "array([[0, 1, 2],\n",
       "       [3, 4, 5],\n",
       "       [6, 7, 8]])"
      ]
     },
     "execution_count": 7,
     "metadata": {},
     "output_type": "execute_result"
    }
   ],
   "source": [
    "matrix=np.arange(0,9).reshape(3,3)\n",
    "matrix"
   ]
  },
  {
   "cell_type": "markdown",
   "id": "a8f09c44",
   "metadata": {},
   "source": [
    "## 4. Find indices of non-zero elements from [1,2,0,0,4,0]"
   ]
  },
  {
   "cell_type": "code",
   "execution_count": 13,
   "id": "c32d9530",
   "metadata": {},
   "outputs": [
    {
     "name": "stdout",
     "output_type": "stream",
     "text": [
      "(array([0, 1, 4], dtype=int64),)\n",
      "The indices of non zero elements are 0, 1 and 4.\n"
     ]
    }
   ],
   "source": [
    "w=[1,2,0,0,4,0]\n",
    "print(np.nonzero(w))\n",
    "print('The indices of non zero elements are 0, 1 and 4.')"
   ]
  },
  {
   "cell_type": "markdown",
   "id": "194e8008",
   "metadata": {},
   "source": [
    "## 5. Create a 10x10 array with random values and find the minimum and maximum values."
   ]
  },
  {
   "cell_type": "code",
   "execution_count": 18,
   "id": "4967b680",
   "metadata": {},
   "outputs": [
    {
     "name": "stdout",
     "output_type": "stream",
     "text": [
      "[[0.64842406 0.86974025 0.6609194  0.46253936 0.14721879 0.64915045\n",
      "  0.53616528 0.56588009 0.79304227 0.30496184]\n",
      " [0.02719882 0.12406566 0.14714621 0.62144928 0.40769847 0.74923647\n",
      "  0.4044147  0.43516742 0.97259925 0.54348601]\n",
      " [0.37491367 0.32907061 0.00201695 0.23836009 0.12574621 0.23307937\n",
      "  0.29735941 0.00651399 0.03214355 0.12597421]\n",
      " [0.00288179 0.58151138 0.20702845 0.91980841 0.56520486 0.50977561\n",
      "  0.10181545 0.84037973 0.31044844 0.01800585]\n",
      " [0.59061617 0.6511407  0.65764906 0.80657225 0.7229786  0.634337\n",
      "  0.30098028 0.94774369 0.37878903 0.26125369]\n",
      " [0.52103705 0.36853196 0.45853555 0.79476751 0.73674432 0.63566386\n",
      "  0.29601362 0.51213376 0.05624656 0.10528836]\n",
      " [0.83522338 0.93891841 0.58425596 0.24712886 0.46882155 0.9227925\n",
      "  0.69858003 0.36268654 0.7573343  0.94087734]\n",
      " [0.53081329 0.14170242 0.62842893 0.10854918 0.41224523 0.05793787\n",
      "  0.09697721 0.74148967 0.32833863 0.77957107]\n",
      " [0.0554596  0.25495529 0.52390259 0.57828572 0.07649127 0.79248424\n",
      "  0.76599163 0.60936454 0.70606524 0.8125595 ]\n",
      " [0.76087879 0.3632184  0.16037392 0.0712786  0.92432212 0.89695763\n",
      "  0.4545704  0.09512155 0.01593282 0.41689777]]\n"
     ]
    }
   ],
   "source": [
    "x=np.random.random((10,10))\n",
    "print(x)\n"
   ]
  },
  {
   "cell_type": "code",
   "execution_count": 20,
   "id": "9eb83b6e",
   "metadata": {},
   "outputs": [
    {
     "name": "stdout",
     "output_type": "stream",
     "text": [
      "Minimum and maximum values in above array are: 0.002016947389958057 0.9725992515582169\n"
     ]
    }
   ],
   "source": [
    "print('Minimum and maximum values in above array are:',x.min() , x.max() )\n"
   ]
  },
  {
   "cell_type": "markdown",
   "id": "f2a042a2",
   "metadata": {},
   "source": [
    "## 6. Create a random vector of size 30 and find the mean value.\n"
   ]
  },
  {
   "cell_type": "code",
   "execution_count": 21,
   "id": "8880e2d8",
   "metadata": {},
   "outputs": [
    {
     "name": "stdout",
     "output_type": "stream",
     "text": [
      "[0.74667995 0.7111049  0.5006503  0.73412288 0.0932671  0.48054024\n",
      " 0.10247563 0.4648471  0.08424039 0.99115745 0.06859009 0.64182424\n",
      " 0.80755539 0.08503174 0.42359311 0.64260841 0.55681905 0.76092852\n",
      " 0.24214578 0.38640269 0.45388341 0.87922093 0.89753449 0.88158614\n",
      " 0.95065211 0.51174113 0.62646391 0.92900917 0.80032622 0.67852172]\n",
      "Mean of the given vector is 0.5711174734901319\n"
     ]
    }
   ],
   "source": [
    "x=np.random.random(30)\n",
    "print(x)\n",
    "print('Mean of the given vector is', x.mean())"
   ]
  },
  {
   "cell_type": "code",
   "execution_count": null,
   "id": "19222f78",
   "metadata": {},
   "outputs": [],
   "source": []
  }
 ],
 "metadata": {
  "kernelspec": {
   "display_name": "Python 3",
   "language": "python",
   "name": "python3"
  },
  "language_info": {
   "codemirror_mode": {
    "name": "ipython",
    "version": 3
   },
   "file_extension": ".py",
   "mimetype": "text/x-python",
   "name": "python",
   "nbconvert_exporter": "python",
   "pygments_lexer": "ipython3",
   "version": "3.8.8"
  }
 },
 "nbformat": 4,
 "nbformat_minor": 5
}
